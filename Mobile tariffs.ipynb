{
 "cells": [
  {
   "cell_type": "markdown",
   "id": "d7d555ae",
   "metadata": {},
   "source": [
    "# Determination of a promising tariff for a telecom company\n",
    "## Description of the project\n",
    "Customers of Megaline, a federal mobile operator, are offered two tariff plans: Smart and Ultra. In order to adjust the advertising budget, the commercial department wants to understand which tariff brings the most money.\n",
    "A preliminary analysis of tariffs was made for a small sample of customers - data from 500 Megaline users: who they are, where they are from, what tariff they use, how many calls and messages each sent in 2018. The behavior of customers was analyzed and a conclusion was made - which tariff is better.\n",
    "### Description of tariffs\n",
    "#### Tariff \"Smart\"\n",
    "1.\tMonthly fee: 550 rubles\n",
    "2.\tIncludes 500 minutes of talk time, 50 messages and 15 GB of Internet traffic\n",
    "3.\tThe cost of services in excess of the tariff package: 1) minute of conversation: 3 rubles; 2) message: 3 rubles; 3) 1 GB of Internet traffic: 200 rubles.\n",
    "#### Tariff \"Ultra\"\n",
    "1.\tMonthly fee: 1950 rubles\n",
    "2.\tIncludes 3000 minutes of talk time, 1000 messages and 30 GB of Internet traffic\n",
    "3.\tThe cost of services in excess of the tariff package: 1) minute of conversation: 1 rubles; 2) message: 1 rubles; 3) 1 GB of Internet traffic: 150 rubles.\n",
    "##### Note:\n",
    "Megaline always rounds seconds to minutes, and megabytes to gigabytes. Each call is rounded off separately: even if it lasted only 1 second, it will be counted as 1 minute.\n",
    "For web traffic, individual sessions are not counted. Instead, the monthly total is rounded up. If the subscriber uses 1025 megabytes this month, they will be charged for 2 gigabytes."
   ]
  },
  {
   "cell_type": "markdown",
   "id": "93d8af6e",
   "metadata": {},
   "source": [
    "## Step 1. Open the data file and study the general information"
   ]
  },
  {
   "cell_type": "code",
   "execution_count": 79,
   "id": "f57d3385",
   "metadata": {
    "scrolled": true
   },
   "outputs": [
    {
     "name": "stdout",
     "output_type": "stream",
     "text": [
      "<class 'pandas.core.frame.DataFrame'>\n",
      "RangeIndex: 202607 entries, 0 to 202606\n",
      "Data columns (total 4 columns):\n",
      " #   Column     Non-Null Count   Dtype  \n",
      "---  ------     --------------   -----  \n",
      " 0   id         202607 non-null  object \n",
      " 1   call_date  202607 non-null  object \n",
      " 2   duration   202607 non-null  float64\n",
      " 3   user_id    202607 non-null  int64  \n",
      "dtypes: float64(1), int64(1), object(2)\n",
      "memory usage: 6.2+ MB\n"
     ]
    }
   ],
   "source": [
    "import pandas as pd\n",
    "import matplotlib.pyplot as plt \n",
    "import numpy as np\n",
    "import seaborn as sb\n",
    "from scipy import stats as st\n",
    "\n",
    "pd.set_option('chained_assignment', None)\n",
    "\n",
    "calls = pd.read_csv('C:/Users/Python.DESKTOP-UVK4GV4/Desktop/python/calls.csv')\n",
    "calls.info()"
   ]
  },
  {
   "cell_type": "code",
   "execution_count": 80,
   "id": "1fcdadd2",
   "metadata": {},
   "outputs": [
    {
     "data": {
      "text/html": [
       "<div>\n",
       "<style scoped>\n",
       "    .dataframe tbody tr th:only-of-type {\n",
       "        vertical-align: middle;\n",
       "    }\n",
       "\n",
       "    .dataframe tbody tr th {\n",
       "        vertical-align: top;\n",
       "    }\n",
       "\n",
       "    .dataframe thead th {\n",
       "        text-align: right;\n",
       "    }\n",
       "</style>\n",
       "<table border=\"1\" class=\"dataframe\">\n",
       "  <thead>\n",
       "    <tr style=\"text-align: right;\">\n",
       "      <th></th>\n",
       "      <th>id</th>\n",
       "      <th>call_date</th>\n",
       "      <th>duration</th>\n",
       "      <th>user_id</th>\n",
       "    </tr>\n",
       "  </thead>\n",
       "  <tbody>\n",
       "    <tr>\n",
       "      <th>0</th>\n",
       "      <td>1000_0</td>\n",
       "      <td>2018-07-25</td>\n",
       "      <td>0.00</td>\n",
       "      <td>1000</td>\n",
       "    </tr>\n",
       "    <tr>\n",
       "      <th>1</th>\n",
       "      <td>1000_1</td>\n",
       "      <td>2018-08-17</td>\n",
       "      <td>0.00</td>\n",
       "      <td>1000</td>\n",
       "    </tr>\n",
       "    <tr>\n",
       "      <th>2</th>\n",
       "      <td>1000_2</td>\n",
       "      <td>2018-06-11</td>\n",
       "      <td>2.85</td>\n",
       "      <td>1000</td>\n",
       "    </tr>\n",
       "    <tr>\n",
       "      <th>3</th>\n",
       "      <td>1000_3</td>\n",
       "      <td>2018-09-21</td>\n",
       "      <td>13.80</td>\n",
       "      <td>1000</td>\n",
       "    </tr>\n",
       "    <tr>\n",
       "      <th>4</th>\n",
       "      <td>1000_4</td>\n",
       "      <td>2018-12-15</td>\n",
       "      <td>5.18</td>\n",
       "      <td>1000</td>\n",
       "    </tr>\n",
       "  </tbody>\n",
       "</table>\n",
       "</div>"
      ],
      "text/plain": [
       "       id   call_date  duration  user_id\n",
       "0  1000_0  2018-07-25      0.00     1000\n",
       "1  1000_1  2018-08-17      0.00     1000\n",
       "2  1000_2  2018-06-11      2.85     1000\n",
       "3  1000_3  2018-09-21     13.80     1000\n",
       "4  1000_4  2018-12-15      5.18     1000"
      ]
     },
     "execution_count": 80,
     "metadata": {},
     "output_type": "execute_result"
    }
   ],
   "source": [
    "calls.head()"
   ]
  },
  {
   "cell_type": "code",
   "execution_count": 81,
   "id": "752244f1",
   "metadata": {},
   "outputs": [
    {
     "name": "stdout",
     "output_type": "stream",
     "text": [
      "<class 'pandas.core.frame.DataFrame'>\n",
      "RangeIndex: 149396 entries, 0 to 149395\n",
      "Data columns (total 5 columns):\n",
      " #   Column        Non-Null Count   Dtype  \n",
      "---  ------        --------------   -----  \n",
      " 0   Unnamed: 0    149396 non-null  int64  \n",
      " 1   id            149396 non-null  object \n",
      " 2   mb_used       149396 non-null  float64\n",
      " 3   session_date  149396 non-null  object \n",
      " 4   user_id       149396 non-null  int64  \n",
      "dtypes: float64(1), int64(2), object(2)\n",
      "memory usage: 5.7+ MB\n"
     ]
    }
   ],
   "source": [
    "internet = pd.read_csv('C:/Users/Python.DESKTOP-UVK4GV4/Desktop/python/internet.csv') \n",
    "internet.info() "
   ]
  },
  {
   "cell_type": "code",
   "execution_count": 82,
   "id": "f4e19e36",
   "metadata": {},
   "outputs": [
    {
     "data": {
      "text/html": [
       "<div>\n",
       "<style scoped>\n",
       "    .dataframe tbody tr th:only-of-type {\n",
       "        vertical-align: middle;\n",
       "    }\n",
       "\n",
       "    .dataframe tbody tr th {\n",
       "        vertical-align: top;\n",
       "    }\n",
       "\n",
       "    .dataframe thead th {\n",
       "        text-align: right;\n",
       "    }\n",
       "</style>\n",
       "<table border=\"1\" class=\"dataframe\">\n",
       "  <thead>\n",
       "    <tr style=\"text-align: right;\">\n",
       "      <th></th>\n",
       "      <th>Unnamed: 0</th>\n",
       "      <th>id</th>\n",
       "      <th>mb_used</th>\n",
       "      <th>session_date</th>\n",
       "      <th>user_id</th>\n",
       "    </tr>\n",
       "  </thead>\n",
       "  <tbody>\n",
       "    <tr>\n",
       "      <th>0</th>\n",
       "      <td>0</td>\n",
       "      <td>1000_0</td>\n",
       "      <td>112.95</td>\n",
       "      <td>2018-11-25</td>\n",
       "      <td>1000</td>\n",
       "    </tr>\n",
       "    <tr>\n",
       "      <th>1</th>\n",
       "      <td>1</td>\n",
       "      <td>1000_1</td>\n",
       "      <td>1052.81</td>\n",
       "      <td>2018-09-07</td>\n",
       "      <td>1000</td>\n",
       "    </tr>\n",
       "    <tr>\n",
       "      <th>2</th>\n",
       "      <td>2</td>\n",
       "      <td>1000_2</td>\n",
       "      <td>1197.26</td>\n",
       "      <td>2018-06-25</td>\n",
       "      <td>1000</td>\n",
       "    </tr>\n",
       "    <tr>\n",
       "      <th>3</th>\n",
       "      <td>3</td>\n",
       "      <td>1000_3</td>\n",
       "      <td>550.27</td>\n",
       "      <td>2018-08-22</td>\n",
       "      <td>1000</td>\n",
       "    </tr>\n",
       "    <tr>\n",
       "      <th>4</th>\n",
       "      <td>4</td>\n",
       "      <td>1000_4</td>\n",
       "      <td>302.56</td>\n",
       "      <td>2018-09-24</td>\n",
       "      <td>1000</td>\n",
       "    </tr>\n",
       "  </tbody>\n",
       "</table>\n",
       "</div>"
      ],
      "text/plain": [
       "   Unnamed: 0      id  mb_used session_date  user_id\n",
       "0           0  1000_0   112.95   2018-11-25     1000\n",
       "1           1  1000_1  1052.81   2018-09-07     1000\n",
       "2           2  1000_2  1197.26   2018-06-25     1000\n",
       "3           3  1000_3   550.27   2018-08-22     1000\n",
       "4           4  1000_4   302.56   2018-09-24     1000"
      ]
     },
     "execution_count": 82,
     "metadata": {},
     "output_type": "execute_result"
    }
   ],
   "source": [
    "internet.head()"
   ]
  },
  {
   "cell_type": "code",
   "execution_count": 83,
   "id": "6decb65a",
   "metadata": {},
   "outputs": [
    {
     "name": "stdout",
     "output_type": "stream",
     "text": [
      "<class 'pandas.core.frame.DataFrame'>\n",
      "RangeIndex: 123036 entries, 0 to 123035\n",
      "Data columns (total 3 columns):\n",
      " #   Column        Non-Null Count   Dtype \n",
      "---  ------        --------------   ----- \n",
      " 0   id            123036 non-null  object\n",
      " 1   message_date  123036 non-null  object\n",
      " 2   user_id       123036 non-null  int64 \n",
      "dtypes: int64(1), object(2)\n",
      "memory usage: 2.8+ MB\n"
     ]
    }
   ],
   "source": [
    "messages = pd.read_csv('C:/Users/Python.DESKTOP-UVK4GV4/Desktop/python/messages.csv') \n",
    "messages.info() "
   ]
  },
  {
   "cell_type": "code",
   "execution_count": 84,
   "id": "74629f05",
   "metadata": {},
   "outputs": [
    {
     "data": {
      "text/html": [
       "<div>\n",
       "<style scoped>\n",
       "    .dataframe tbody tr th:only-of-type {\n",
       "        vertical-align: middle;\n",
       "    }\n",
       "\n",
       "    .dataframe tbody tr th {\n",
       "        vertical-align: top;\n",
       "    }\n",
       "\n",
       "    .dataframe thead th {\n",
       "        text-align: right;\n",
       "    }\n",
       "</style>\n",
       "<table border=\"1\" class=\"dataframe\">\n",
       "  <thead>\n",
       "    <tr style=\"text-align: right;\">\n",
       "      <th></th>\n",
       "      <th>id</th>\n",
       "      <th>message_date</th>\n",
       "      <th>user_id</th>\n",
       "    </tr>\n",
       "  </thead>\n",
       "  <tbody>\n",
       "    <tr>\n",
       "      <th>0</th>\n",
       "      <td>1000_0</td>\n",
       "      <td>2018-06-27</td>\n",
       "      <td>1000</td>\n",
       "    </tr>\n",
       "    <tr>\n",
       "      <th>1</th>\n",
       "      <td>1000_1</td>\n",
       "      <td>2018-10-08</td>\n",
       "      <td>1000</td>\n",
       "    </tr>\n",
       "    <tr>\n",
       "      <th>2</th>\n",
       "      <td>1000_2</td>\n",
       "      <td>2018-08-04</td>\n",
       "      <td>1000</td>\n",
       "    </tr>\n",
       "    <tr>\n",
       "      <th>3</th>\n",
       "      <td>1000_3</td>\n",
       "      <td>2018-06-16</td>\n",
       "      <td>1000</td>\n",
       "    </tr>\n",
       "    <tr>\n",
       "      <th>4</th>\n",
       "      <td>1000_4</td>\n",
       "      <td>2018-12-05</td>\n",
       "      <td>1000</td>\n",
       "    </tr>\n",
       "  </tbody>\n",
       "</table>\n",
       "</div>"
      ],
      "text/plain": [
       "       id message_date  user_id\n",
       "0  1000_0   2018-06-27     1000\n",
       "1  1000_1   2018-10-08     1000\n",
       "2  1000_2   2018-08-04     1000\n",
       "3  1000_3   2018-06-16     1000\n",
       "4  1000_4   2018-12-05     1000"
      ]
     },
     "execution_count": 84,
     "metadata": {},
     "output_type": "execute_result"
    }
   ],
   "source": [
    "messages.head()"
   ]
  },
  {
   "cell_type": "code",
   "execution_count": 85,
   "id": "f0755f2a",
   "metadata": {
    "scrolled": true
   },
   "outputs": [
    {
     "name": "stdout",
     "output_type": "stream",
     "text": [
      "<class 'pandas.core.frame.DataFrame'>\n",
      "RangeIndex: 2 entries, 0 to 1\n",
      "Data columns (total 8 columns):\n",
      " #   Column                 Non-Null Count  Dtype \n",
      "---  ------                 --------------  ----- \n",
      " 0   messages_included      2 non-null      int64 \n",
      " 1   mb_per_month_included  2 non-null      int64 \n",
      " 2   minutes_included       2 non-null      int64 \n",
      " 3   rub_monthly_fee        2 non-null      int64 \n",
      " 4   rub_per_gb             2 non-null      int64 \n",
      " 5   rub_per_message        2 non-null      int64 \n",
      " 6   rub_per_minute         2 non-null      int64 \n",
      " 7   tariff_name            2 non-null      object\n",
      "dtypes: int64(7), object(1)\n",
      "memory usage: 256.0+ bytes\n"
     ]
    }
   ],
   "source": [
    "tariffs = pd.read_csv('C:/Users/Python.DESKTOP-UVK4GV4/Desktop/python/tariffs.csv') \n",
    "tariffs.info() "
   ]
  },
  {
   "cell_type": "code",
   "execution_count": 86,
   "id": "02c19c02",
   "metadata": {},
   "outputs": [
    {
     "data": {
      "text/html": [
       "<div>\n",
       "<style scoped>\n",
       "    .dataframe tbody tr th:only-of-type {\n",
       "        vertical-align: middle;\n",
       "    }\n",
       "\n",
       "    .dataframe tbody tr th {\n",
       "        vertical-align: top;\n",
       "    }\n",
       "\n",
       "    .dataframe thead th {\n",
       "        text-align: right;\n",
       "    }\n",
       "</style>\n",
       "<table border=\"1\" class=\"dataframe\">\n",
       "  <thead>\n",
       "    <tr style=\"text-align: right;\">\n",
       "      <th></th>\n",
       "      <th>messages_included</th>\n",
       "      <th>mb_per_month_included</th>\n",
       "      <th>minutes_included</th>\n",
       "      <th>rub_monthly_fee</th>\n",
       "      <th>rub_per_gb</th>\n",
       "      <th>rub_per_message</th>\n",
       "      <th>rub_per_minute</th>\n",
       "      <th>tariff_name</th>\n",
       "    </tr>\n",
       "  </thead>\n",
       "  <tbody>\n",
       "    <tr>\n",
       "      <th>0</th>\n",
       "      <td>50</td>\n",
       "      <td>15360</td>\n",
       "      <td>500</td>\n",
       "      <td>550</td>\n",
       "      <td>200</td>\n",
       "      <td>3</td>\n",
       "      <td>3</td>\n",
       "      <td>smart</td>\n",
       "    </tr>\n",
       "    <tr>\n",
       "      <th>1</th>\n",
       "      <td>1000</td>\n",
       "      <td>30720</td>\n",
       "      <td>3000</td>\n",
       "      <td>1950</td>\n",
       "      <td>150</td>\n",
       "      <td>1</td>\n",
       "      <td>1</td>\n",
       "      <td>ultra</td>\n",
       "    </tr>\n",
       "  </tbody>\n",
       "</table>\n",
       "</div>"
      ],
      "text/plain": [
       "   messages_included  mb_per_month_included  minutes_included  \\\n",
       "0                 50                  15360               500   \n",
       "1               1000                  30720              3000   \n",
       "\n",
       "   rub_monthly_fee  rub_per_gb  rub_per_message  rub_per_minute tariff_name  \n",
       "0              550         200                3               3       smart  \n",
       "1             1950         150                1               1       ultra  "
      ]
     },
     "execution_count": 86,
     "metadata": {},
     "output_type": "execute_result"
    }
   ],
   "source": [
    "tariffs.head()"
   ]
  },
  {
   "cell_type": "code",
   "execution_count": 87,
   "id": "afbd75e3",
   "metadata": {},
   "outputs": [
    {
     "name": "stdout",
     "output_type": "stream",
     "text": [
      "<class 'pandas.core.frame.DataFrame'>\n",
      "RangeIndex: 500 entries, 0 to 499\n",
      "Data columns (total 8 columns):\n",
      " #   Column      Non-Null Count  Dtype \n",
      "---  ------      --------------  ----- \n",
      " 0   user_id     500 non-null    int64 \n",
      " 1   age         500 non-null    int64 \n",
      " 2   churn_date  38 non-null     object\n",
      " 3   city        500 non-null    object\n",
      " 4   first_name  500 non-null    object\n",
      " 5   last_name   500 non-null    object\n",
      " 6   reg_date    500 non-null    object\n",
      " 7   tariff      500 non-null    object\n",
      "dtypes: int64(2), object(6)\n",
      "memory usage: 31.4+ KB\n"
     ]
    }
   ],
   "source": [
    "users = pd.read_csv('C:/Users/Python.DESKTOP-UVK4GV4/Desktop/python/users.csv')\n",
    "users.info()"
   ]
  },
  {
   "cell_type": "code",
   "execution_count": 88,
   "id": "7098871a",
   "metadata": {},
   "outputs": [
    {
     "data": {
      "text/html": [
       "<div>\n",
       "<style scoped>\n",
       "    .dataframe tbody tr th:only-of-type {\n",
       "        vertical-align: middle;\n",
       "    }\n",
       "\n",
       "    .dataframe tbody tr th {\n",
       "        vertical-align: top;\n",
       "    }\n",
       "\n",
       "    .dataframe thead th {\n",
       "        text-align: right;\n",
       "    }\n",
       "</style>\n",
       "<table border=\"1\" class=\"dataframe\">\n",
       "  <thead>\n",
       "    <tr style=\"text-align: right;\">\n",
       "      <th></th>\n",
       "      <th>user_id</th>\n",
       "      <th>age</th>\n",
       "      <th>churn_date</th>\n",
       "      <th>city</th>\n",
       "      <th>first_name</th>\n",
       "      <th>last_name</th>\n",
       "      <th>reg_date</th>\n",
       "      <th>tariff</th>\n",
       "    </tr>\n",
       "  </thead>\n",
       "  <tbody>\n",
       "    <tr>\n",
       "      <th>495</th>\n",
       "      <td>1495</td>\n",
       "      <td>65</td>\n",
       "      <td>NaN</td>\n",
       "      <td>Иркутск</td>\n",
       "      <td>Авксентий</td>\n",
       "      <td>Фокин</td>\n",
       "      <td>2018-08-28</td>\n",
       "      <td>ultra</td>\n",
       "    </tr>\n",
       "    <tr>\n",
       "      <th>496</th>\n",
       "      <td>1496</td>\n",
       "      <td>36</td>\n",
       "      <td>NaN</td>\n",
       "      <td>Вологда</td>\n",
       "      <td>Трифон</td>\n",
       "      <td>Блохин</td>\n",
       "      <td>2018-01-27</td>\n",
       "      <td>smart</td>\n",
       "    </tr>\n",
       "    <tr>\n",
       "      <th>497</th>\n",
       "      <td>1497</td>\n",
       "      <td>32</td>\n",
       "      <td>NaN</td>\n",
       "      <td>Челябинск</td>\n",
       "      <td>Каролина</td>\n",
       "      <td>Агеева</td>\n",
       "      <td>2018-10-09</td>\n",
       "      <td>smart</td>\n",
       "    </tr>\n",
       "    <tr>\n",
       "      <th>498</th>\n",
       "      <td>1498</td>\n",
       "      <td>68</td>\n",
       "      <td>2018-10-25</td>\n",
       "      <td>Владикавказ</td>\n",
       "      <td>Всеволод</td>\n",
       "      <td>Акимчин</td>\n",
       "      <td>2018-07-19</td>\n",
       "      <td>smart</td>\n",
       "    </tr>\n",
       "    <tr>\n",
       "      <th>499</th>\n",
       "      <td>1499</td>\n",
       "      <td>35</td>\n",
       "      <td>NaN</td>\n",
       "      <td>Пермь</td>\n",
       "      <td>Гектор</td>\n",
       "      <td>Корнилов</td>\n",
       "      <td>2018-09-27</td>\n",
       "      <td>smart</td>\n",
       "    </tr>\n",
       "  </tbody>\n",
       "</table>\n",
       "</div>"
      ],
      "text/plain": [
       "     user_id  age  churn_date         city first_name last_name    reg_date  \\\n",
       "495     1495   65         NaN      Иркутск  Авксентий     Фокин  2018-08-28   \n",
       "496     1496   36         NaN      Вологда     Трифон    Блохин  2018-01-27   \n",
       "497     1497   32         NaN    Челябинск   Каролина    Агеева  2018-10-09   \n",
       "498     1498   68  2018-10-25  Владикавказ   Всеволод   Акимчин  2018-07-19   \n",
       "499     1499   35         NaN        Пермь     Гектор  Корнилов  2018-09-27   \n",
       "\n",
       "    tariff  \n",
       "495  ultra  \n",
       "496  smart  \n",
       "497  smart  \n",
       "498  smart  \n",
       "499  smart  "
      ]
     },
     "execution_count": 88,
     "metadata": {},
     "output_type": "execute_result"
    }
   ],
   "source": [
    "users.tail()"
   ]
  },
  {
   "cell_type": "markdown",
   "id": "1e5ac2e0",
   "metadata": {},
   "source": [
    "All 5 files are open, they all contain different information and have a different number of columns. The only gaps are in the file *users* in the column **churn_date**."
   ]
  },
  {
   "cell_type": "markdown",
   "id": "bb4fa1f7",
   "metadata": {},
   "source": [
    "## Step 2. Prepare the data\n",
    "- Cast the data to the required types;\n",
    "- Find and correct data errors, where it is necessary."
   ]
  },
  {
   "cell_type": "code",
   "execution_count": 89,
   "id": "4a86347a",
   "metadata": {},
   "outputs": [],
   "source": [
    "#id in the files calls, internet, messages are converted to integer type\n",
    "\n",
    "calls['id'] = calls['id'].astype(int)\n",
    "internet['id'] = internet['id'].astype(int)\n",
    "messages['id'] = messages['id'].astype(int)"
   ]
  },
  {
   "cell_type": "code",
   "execution_count": 90,
   "id": "18771727",
   "metadata": {},
   "outputs": [],
   "source": [
    "#columns with dates in the files calls, internet, messages, users are given to the date format\n",
    "\n",
    "calls['call_date'] = pd.to_datetime(calls['call_date'], format='%Y-%m-%d')\n",
    "internet['session_date'] = pd.to_datetime(internet['session_date'], format='%Y-%m-%d')\n",
    "messages['message_date'] = pd.to_datetime(messages['message_date'], format='%Y-%m-%d')\n",
    "users['reg_date'] = pd.to_datetime(users['reg_date'], format='%Y-%m-%d')\n",
    "users['churn_date'] = pd.to_datetime(users['churn_date'], format='%Y-%m-%d')"
   ]
  },
  {
   "cell_type": "code",
   "execution_count": 91,
   "id": "f83eeb20",
   "metadata": {},
   "outputs": [],
   "source": [
    "#all values are rounded up (since the tariff is calculated by minutes)\n",
    "#0 values are replaced by 1\n",
    "\n",
    "calls['duration'] = calls['duration'].apply(np.ceil)\n",
    "calls.loc[calls['duration'] == 0, 'duration'] = 1"
   ]
  },
  {
   "cell_type": "code",
   "execution_count": 92,
   "id": "01ad7322",
   "metadata": {},
   "outputs": [],
   "source": [
    "##all values are rounded up (since the tariff is calculated by megabytes)\n",
    "#0 values are replaced by 1\n",
    "\n",
    "internet['mb_used'] = internet['mb_used'].apply(np.ceil)\n",
    "internet.loc[internet['mb_used'] == 0, 'mb_used'] = 1"
   ]
  },
  {
   "cell_type": "markdown",
   "id": "80747923",
   "metadata": {},
   "source": [
    "#### Data type and gaps\n",
    "1. **id** are converted to integer type in the files *calls, internet, messages*;\n",
    "2. Columns with **dates** in the files *calls, internet, messages, users* are given to the date format;\n",
    "3. Call duration and Internet traffic values are rounded up, zeros are replaced by 1.\n",
    "\n",
    "There are a lot of gaps in the *users* file in the **churn_date** column and it is not possible to fill them in, let's leave it as it is."
   ]
  },
  {
   "cell_type": "markdown",
   "id": "5317901c",
   "metadata": {},
   "source": [
    "#### Calculate for each user:\n",
    "- the number of calls made and spent minutes of conversation by months;\n",
    "- number of sent messages by month;\n",
    "- the volume of consumed Internet traffic by months;\n",
    "- monthly revenue from each user (subtract the free limit from the total number of calls, messages and Internet traffic; multiply the remainder by the value from the tariff plan; add the subscription fee corresponding to the tariff plan)."
   ]
  },
  {
   "cell_type": "code",
   "execution_count": 93,
   "id": "561f6890",
   "metadata": {},
   "outputs": [],
   "source": [
    "#number of calls made and spent minutes of conversation by months\n",
    "\n",
    "call_min_pro_month = calls.groupby([calls['user_id'], calls['call_date']\n",
    "                                      .dt.month.rename('month')]).agg({'duration':['count','sum']})\n",
    "\n",
    "call_min_pro_month.columns=['count_call', 'dur_call']"
   ]
  },
  {
   "cell_type": "code",
   "execution_count": 94,
   "id": "c3864944",
   "metadata": {},
   "outputs": [],
   "source": [
    "#number of messages sent by month\n",
    "\n",
    "mess_pro_month = messages.groupby([messages['user_id'], messages['message_date']\n",
    "                                      .dt.month.rename('month')]).agg({'user_id':['count']})\n",
    "\n",
    "mess_pro_month.columns=['count_mess']"
   ]
  },
  {
   "cell_type": "code",
   "execution_count": 95,
   "id": "7cd19225",
   "metadata": {},
   "outputs": [],
   "source": [
    "#Internet traffic consumed by months\n",
    "\n",
    "int_pro_month = internet.groupby([internet['user_id'], internet['session_date']\n",
    "                                      .dt.month.rename('month')]).agg({'mb_used':['sum']})\n",
    "\n",
    "int_pro_month.columns=['sum_int']"
   ]
  },
  {
   "cell_type": "code",
   "execution_count": 96,
   "id": "c6d9495d",
   "metadata": {},
   "outputs": [],
   "source": [
    "#create a resulting table with calculated values\n",
    "\n",
    "result = [call_min_pro_month['count_call'], \n",
    "          call_min_pro_month['dur_call'], \n",
    "          mess_pro_month['count_mess'], \n",
    "          int_pro_month['sum_int']]\n",
    "\n",
    "res_table = pd.concat(result, axis=1)\n",
    "res_table.reset_index(inplace=True)"
   ]
  },
  {
   "cell_type": "code",
   "execution_count": 97,
   "id": "dc9c8850",
   "metadata": {},
   "outputs": [],
   "source": [
    "#missing values are replaced with zeros\n",
    "\n",
    "res_table.loc[res_table['count_call'].isna(), 'count_call'] = 0\n",
    "res_table.loc[res_table['dur_call'].isna(), 'dur_call'] = 0\n",
    "res_table.loc[res_table['count_mess'].isna(), 'count_mess'] = 0\n",
    "res_table.loc[res_table['sum_int'].isna(), 'sum_int'] = 0"
   ]
  },
  {
   "cell_type": "code",
   "execution_count": 98,
   "id": "8d49fa8b",
   "metadata": {},
   "outputs": [],
   "source": [
    "#add the name of the tariff used for each user\n",
    "\n",
    "total = res_table.merge(users, on = 'user_id', how = 'right').drop(['churn_date', 'first_name', 'last_name', 'reg_date'], axis=1)"
   ]
  },
  {
   "cell_type": "code",
   "execution_count": 99,
   "id": "fe84a727",
   "metadata": {},
   "outputs": [],
   "source": [
    "#function of calculating revenue from each user per month\n",
    "\n",
    "def det_revenue(row):\n",
    "    duration = row['dur_call']\n",
    "    messages = row['count_mess']\n",
    "    mb_used = row['sum_int']\n",
    "    tariff = row['tariff']\n",
    "        \n",
    "    if tariff == 'ultra':\n",
    "        extra_dur = duration - tariffs.loc[1, 'minutes_included']\n",
    "        extra_mess = messages - tariffs.loc[1, 'messages_included']\n",
    "        extra_int = mb_used - tariffs.loc[1, 'mb_per_month_included']\n",
    "\n",
    "        if extra_dur < 0:\n",
    "            extra_dur = 0\n",
    "        if extra_mess < 0:\n",
    "            extra_mess = 0\n",
    "        if extra_int < 0:\n",
    "            extra_int = 0\n",
    "    \n",
    "        return(extra_dur * tariffs.loc[1, 'rub_per_minute'] +\n",
    "               extra_mess * tariffs.loc[1, 'rub_per_message'] +\n",
    "               extra_int * (tariffs.loc[1, 'rub_per_gb'] / 1024) +\n",
    "               tariffs.loc[1, 'rub_monthly_fee'])\n",
    "    else:\n",
    "        extra_dur = duration - tariffs.loc[0, 'minutes_included']\n",
    "        extra_mess = messages - tariffs.loc[0, 'messages_included']\n",
    "        extra_int = mb_used - tariffs.loc[0, 'mb_per_month_included']\n",
    "\n",
    "        if extra_dur < 0:\n",
    "            extra_dur = 0\n",
    "        if extra_mess < 0:\n",
    "            extra_mess = 0\n",
    "        if extra_int < 0:\n",
    "            extra_int = 0\n",
    "    \n",
    "        return(extra_dur * tariffs.loc[0, 'rub_per_minute'] +\n",
    "               extra_mess * tariffs.loc[0, 'rub_per_message'] +\n",
    "               extra_int * (tariffs.loc[0, 'rub_per_gb'] / 1024) +\n",
    "               tariffs.loc[0, 'rub_monthly_fee'])"
   ]
  },
  {
   "cell_type": "code",
   "execution_count": 100,
   "id": "9cf91fcb",
   "metadata": {
    "scrolled": true
   },
   "outputs": [],
   "source": [
    "total['revenue'] = total.apply(det_revenue, axis=1)"
   ]
  },
  {
   "cell_type": "markdown",
   "id": "9105b67f",
   "metadata": {},
   "source": [
    "## Step 3. Analyze the data\n",
    "- Describe the behavior of the operator's customers based on the sample. \n",
    "- How many minutes of conversation, how many messages and how much Internet traffic do users of each tariff need per month?\n",
    "- Calculate the mean, variance, and standard deviation.\n",
    "- Plot histograms.\n",
    "- Describe the distributions."
   ]
  },
  {
   "cell_type": "code",
   "execution_count": 101,
   "id": "aad06edd",
   "metadata": {},
   "outputs": [],
   "source": [
    "#How many minutes of conversation, how many messages and how much Internet traffic \n",
    "#do users of each tariff need per month?\n",
    "\n",
    "medians = total.pivot_table(index='user_id', values=['dur_call', 'count_mess', 'sum_int'], aggfunc='median').merge(users, on = 'user_id', how = 'right').drop(['age', 'churn_date', 'first_name', 'last_name', 'reg_date'], axis=1)"
   ]
  },
  {
   "cell_type": "code",
   "execution_count": 102,
   "id": "36ef395a",
   "metadata": {},
   "outputs": [],
   "source": [
    "#calculate the mean, variance and standard deviation\n",
    "\n",
    "statistic = medians.pivot_table(index='tariff', values=['dur_call', 'count_mess', 'sum_int'], aggfunc={'dur_call': [np.median, np.var, np.std], 'sum_int': [np.median, np.var, np.std], 'count_mess': [np.median, np.var, np.std]}).round(2)\n",
    "statistic.reset_index(inplace=True)\n",
    "\n",
    "smart = medians[medians['tariff'] == 'smart']\n",
    "ultra = medians[medians['tariff'] == 'ultra']"
   ]
  },
  {
   "cell_type": "code",
   "execution_count": 103,
   "id": "b9baceaf",
   "metadata": {},
   "outputs": [
    {
     "data": {
      "image/png": "[encoded data removed]",
      "text/plain": [
       "<Figure size 360x360 with 1 Axes>"
      ]
     },
     "metadata": {
      "needs_background": "light"
     },
     "output_type": "display_data"
    },
    {
     "data": {
      "image/png": "[encoded data removed]",
      "text/plain": [
       "<Figure size 360x360 with 1 Axes>"
      ]
     },
     "metadata": {
      "needs_background": "light"
     },
     "output_type": "display_data"
    },
    {
     "data": {
      "image/png": "[encoded data removed]",
      "text/plain": [
       "<Figure size 360x360 with 1 Axes>"
      ]
     },
     "metadata": {
      "needs_background": "light"
     },
     "output_type": "display_data"
    }
   ],
   "source": [
    "for column in ['count_mess', 'dur_call', 'sum_int']:    \n",
    "    sb.catplot(x=\"tariff\", y=column, kind=\"box\", data=medians, orient='v')"
   ]
  },
  {
   "cell_type": "code",
   "execution_count": 104,
   "id": "f6ea5786",
   "metadata": {
    "scrolled": true
   },
   "outputs": [
    {
     "data": {
      "image/png": "[encoded data removed]",
      "text/plain": [
       "<Figure size 432x288 with 1 Axes>"
      ]
     },
     "metadata": {
      "needs_background": "light"
     },
     "output_type": "display_data"
    }
   ],
   "source": [
    "#plot histograms\n",
    "\n",
    "ax = smart.plot(\n",
    "    kind='hist',\n",
    "    y='count_mess',\n",
    "    histtype='step',\n",
    "    linewidth=5,\n",
    "    alpha=0.7,\n",
    "    color='green',\n",
    "    label='smart',\n",
    ")\n",
    "ultra.plot(\n",
    "    kind='hist',\n",
    "    y='count_mess',\n",
    "    histtype='step',\n",
    "    linewidth=5,\n",
    "    alpha=0.7,\n",
    "    label='ultra',\n",
    "    ax=ax,\n",
    "    color='orange',\n",
    "    grid=True,\n",
    "    legend=True,\n",
    "    title='Number of SMS messages for users of different tariffs',\n",
    ")\n",
    "plt.xlabel('count of messages')\n",
    "plt.ylabel('count of users')\n",
    "plt.axvline(x=50, color='green', label='limit_smart');\n",
    "#plt.axvline(x=1000, color='orange', label='limit_ultra');"
   ]
  },
  {
   "cell_type": "code",
   "execution_count": 105,
   "id": "2899d448",
   "metadata": {},
   "outputs": [
    {
     "data": {
      "image/png": "[encoded data removed]",
      "text/plain": [
       "<Figure size 432x288 with 1 Axes>"
      ]
     },
     "metadata": {
      "needs_background": "light"
     },
     "output_type": "display_data"
    }
   ],
   "source": [
    "ax = smart.plot(\n",
    "    kind='hist',\n",
    "    y='dur_call',\n",
    "    histtype='step',\n",
    "    linewidth=5,\n",
    "    alpha=0.7,\n",
    "    color='green',\n",
    "    label='smart',\n",
    ")\n",
    "ultra.plot(\n",
    "    kind='hist',\n",
    "    y='dur_call',\n",
    "    histtype='step',\n",
    "    linewidth=5,\n",
    "    alpha=0.7,\n",
    "    label='ultra',\n",
    "    ax=ax,\n",
    "    color='orange',\n",
    "    grid=True,\n",
    "    legend=True,\n",
    "    title='Call duration in minutes for users of different tariffs',\n",
    ")\n",
    "plt.xlabel('minutes of calls')\n",
    "plt.ylabel(\"count of users\")\n",
    "plt.axvline(x=500, color='green', label='limit_smart');\n",
    "#plt.axvline(x=3000, color='orange', label='limit_ultra');"
   ]
  },
  {
   "cell_type": "code",
   "execution_count": 106,
   "id": "a85b5902",
   "metadata": {},
   "outputs": [
    {
     "data": {
      "image/png": "[encoded data removed]",
      "text/plain": [
       "<Figure size 432x288 with 1 Axes>"
      ]
     },
     "metadata": {
      "needs_background": "light"
     },
     "output_type": "display_data"
    }
   ],
   "source": [
    "ax = smart.plot(\n",
    "    kind='hist',\n",
    "    y='sum_int',\n",
    "    histtype='step',\n",
    "    linewidth=5,\n",
    "    alpha=0.7,\n",
    "    color='green',\n",
    "    label='smart',\n",
    ")\n",
    "ultra.plot(\n",
    "    kind='hist',\n",
    "    y='sum_int',\n",
    "    histtype='step',\n",
    "    linewidth=5,\n",
    "    alpha=0.7,\n",
    "    label='ultra',\n",
    "    ax=ax,\n",
    "    color='orange',\n",
    "    grid=True,\n",
    "    legend=True,\n",
    "    title='The amount of Internet traffic in mb for users of different tariffs',\n",
    ")\n",
    "plt.xlabel('mb of internet')\n",
    "plt.ylabel(\"count of users\")\n",
    "plt.axvline(x=15360, color='green', label='limit_smart');\n",
    "plt.axvline(x=30720, color='orange', label='limit_ultra');"
   ]
  },
  {
   "cell_type": "markdown",
   "id": "6e2e24ff",
   "metadata": {},
   "source": [
    "#### Description of distributions\n",
    "1. The number of SMS messages for users of different tariffs is described by **Chi-square or χ2 (chi-square)** distribution. The histograms partially overlap each other, there is a cutoff peak on the left. The average value of the parameter is significantly to the left of the center of the range, especially for users of the smart tariff: more than 100 people on average write no more than 20 SMS per month; more than 100 SMS are written by up to 10 people per month. With regard to users of the ultra tariff, there are **2 peaks**: up to 40 people rarely use SMS (no more than 20 per month) and from 80 to 100 people write an average of 20 messages per month.\n",
    "2. The duration of calls for smart tariff users is described by a distribution close to **normal**. The average value for the number of minutes is in the middle of the full swing range. The largest number of users also belongs to the average interval, more than 70 people spend on calls from 300 to 550 minutes per month. For ultra tariff users, the duration of calls is described according to the law **uniform, close to rectangular distribution**. The number of users talking on average up to 900 minutes per month does not change significantly (18-20 people each).\n",
    "3. Using of the Internet by users of the smart tariff is distributed **normal**: the majority spends from 1.2 to 2 GB of Internet per month. Ultra users use the Internet more **uniform** and spend from 0.7 to 4 GB per month."
   ]
  },
  {
   "cell_type": "markdown",
   "id": "ad03d309",
   "metadata": {},
   "source": [
    "## Step 4. Test hypotheses\n",
    "- the average revenue of users of the Ultra and Smart tariffs differ;\n",
    "- the average revenue of users from Moscow differs from the revenue of users from other regions."
   ]
  },
  {
   "cell_type": "code",
   "execution_count": 107,
   "id": "588bb21b",
   "metadata": {},
   "outputs": [],
   "source": [
    "smart_users = total[total['tariff'] == 'smart']\n",
    "ultra_users = total[total['tariff'] == 'ultra']"
   ]
  },
  {
   "cell_type": "code",
   "execution_count": 108,
   "id": "a2a43ab3",
   "metadata": {},
   "outputs": [],
   "source": [
    "mean_rev_smart = smart_users.pivot_table(index='user_id', values=['revenue'], aggfunc='mean')\n",
    "mean_rev_ultra = ultra_users.pivot_table(index='user_id', values=['revenue'], aggfunc='mean')"
   ]
  },
  {
   "cell_type": "markdown",
   "id": "ac8ee708",
   "metadata": {},
   "source": [
    "- HO: mean_rev_smart = mean_rev_ultra\n",
    "- HA: mean_rev_ultra > mean_rev_smart"
   ]
  },
  {
   "cell_type": "code",
   "execution_count": 109,
   "id": "800ab086",
   "metadata": {},
   "outputs": [
    {
     "name": "stdout",
     "output_type": "stream",
     "text": [
      "p-value: [3.94622627e-44]\n",
      "Rejecting the null hypothesis\n"
     ]
    },
    {
     "data": {
      "text/plain": [
       "revenue    True\n",
       "dtype: bool"
      ]
     },
     "execution_count": 109,
     "metadata": {},
     "output_type": "execute_result"
    }
   ],
   "source": [
    "#Null hypothesis:\n",
    "#average revenue of users of the \"Ultra\" is equal to the revenue of users \"Smart\"\n",
    "\n",
    "alpha = 0.05 #critical level of statistical significance\n",
    "    \n",
    "results_tarif = st.ttest_ind(mean_rev_smart, mean_rev_ultra)\n",
    "print('p-value:', results_tarif.pvalue)\n",
    "\n",
    "if results_tarif.pvalue < alpha:\n",
    "    print('Rejecting the null hypothesis')\n",
    "else:\n",
    "    print('Failed to reject the null hypothesis')\n",
    "\n",
    "#Alternative hypothesis (one-sided):\n",
    "#average revenue of users of the \"Ultra\" tariff is higher than the average revenue of users of the \"Smart\" tariff\n",
    "\n",
    "mean_smart = mean_rev_smart.mean()\n",
    "mean_ultra = mean_rev_ultra.mean()\n",
    "\n",
    "mean_ultra > mean_smart"
   ]
  },
  {
   "cell_type": "code",
   "execution_count": 110,
   "id": "7193988c",
   "metadata": {},
   "outputs": [],
   "source": [
    "moscow_users = total[total['city'] == 'Москва']\n",
    "other_users = total[total['city'] != 'Москва']"
   ]
  },
  {
   "cell_type": "code",
   "execution_count": 111,
   "id": "f6e0843a",
   "metadata": {},
   "outputs": [],
   "source": [
    "mean_rev_moscow = moscow_users.pivot_table(index='user_id', values=['revenue'], aggfunc='mean')\n",
    "mean_rev_other = other_users.pivot_table(index='user_id', values=['revenue'], aggfunc='mean')"
   ]
  },
  {
   "cell_type": "markdown",
   "id": "ca91c3b6",
   "metadata": {},
   "source": [
    "- HO: mean_rev_moscow = mean_rev_other\n",
    "- HA: mean_rev_moscow > mean_rev_other"
   ]
  },
  {
   "cell_type": "code",
   "execution_count": 113,
   "id": "0d450e2a",
   "metadata": {
    "scrolled": true
   },
   "outputs": [
    {
     "name": "stdout",
     "output_type": "stream",
     "text": [
      "p-value: [0.39116949]\n",
      "Failed to reject the null hypothesis\n",
      "\n"
     ]
    },
    {
     "data": {
      "text/plain": [
       "revenue    False\n",
       "dtype: bool"
      ]
     },
     "execution_count": 113,
     "metadata": {},
     "output_type": "execute_result"
    }
   ],
   "source": [
    "#Null hypothesis:\n",
    "#average revenue of users from Moscow is equal to the revenue of users from other regions\n",
    "\n",
    "results_city = st.ttest_ind(mean_rev_moscow, mean_rev_other)\n",
    "print('p-value:', results_city.pvalue)\n",
    "if results_city.pvalue < alpha:\n",
    "    print('Rejecting the null hypothesis')\n",
    "else:\n",
    "    print('Failed to reject the null hypothesis')\n",
    "print()\n",
    "\n",
    "#Alternative hypothesis (one-sided):\n",
    "#average revenue of users from Moscow is higher than the revenue of users from other regions\n",
    "\n",
    "mean_moscow = mean_rev_moscow.mean()\n",
    "mean_other = mean_rev_other.mean()\n",
    "\n",
    "mean_moscow > mean_other"
   ]
  },
  {
   "cell_type": "markdown",
   "id": "0492b9c5",
   "metadata": {},
   "source": [
    "1. Null hypothesis: average revenue of users of the \"Ultra\" is equal to the revenue of users \"Smart\" - **not confirmed**.\n",
    "2. Alternative hypothesis (one-sided): average revenue of users of the \"Ultra\" tariff is higher than the average revenue of users of the \"Smart\" tariff - **confirmed**.\n",
    "3. Null hypothesis: taverage revenue of users from Moscow is equal to the revenue of users from other regions - **confirmed**.\n",
    "4. Alternative hypothesis (one-sided): average revenue of users from Moscow is higher than the revenue of users from other regions - **not confirmed**."
   ]
  },
  {
   "cell_type": "markdown",
   "id": "dd35fad6",
   "metadata": {},
   "source": [
    "## Step 5. Write a general conclusion"
   ]
  },
  {
   "cell_type": "markdown",
   "id": "8b9915e5",
   "metadata": {},
   "source": [
    "## Conclusion\n",
    "1.\tSome users of the Smart tariff do not use SMS, most of them rarely send them. Users of the Ultra tariff also send some SMS and never go beyond the set limit.\n",
    "2.\tSome Smart users go beyond the established limit on the duration of calls per month (500 minutes) and speak up to 400 minutes more for an additional fee. Ultra users mostly talk for up to 900 minutes a month, some up to 1300 minutes, but do not exceed the set limit (3000 minutes).\n",
    "3.\tInternet traffic within the tariff (15 GB) is not enough for most Smart users, and most pay for extra 12 GB, and someone for extra 22 GB. Almost all Ultra users fit into the 30 GB tariff limit, the majority spend from 7 to 30 GB of Internet per month, very few pay extra for an additional 10 GB.\n",
    "4.\tThe average revenue of users of the Ultra plan is higher than the average revenue of users of the Smart plan.\n",
    "5.\tThe average revenue of users from Moscow is equal to the average revenue of users from other regions.\n",
    "6.\tMore money is brought by the Ultra tariff, in addition to the tariff, users buy Internet traffic (up to 10 GB). Revenue from users of the Smart tariff is less, but there users more often resort to surcharges in excess of the tariff, which is three times (SMS and minutes) and one and a half times (Internet) more expensive than for users of the Ultra tariff. Users buy additional Internet traffic (up to 12 (22) GB!!!), additional SMS (up to 60 SMS messages), additional minutes (up to 400 minutes)."
   ]
  }
 ],
 "metadata": {
  "kernelspec": {
   "display_name": "Python 3",
   "language": "python",
   "name": "python3"
  },
  "language_info": {
   "codemirror_mode": {
    "name": "ipython",
    "version": 3
   },
   "file_extension": ".py",
   "mimetype": "text/x-python",
   "name": "python",
   "nbconvert_exporter": "python",
   "pygments_lexer": "ipython3",
   "version": "3.8.8"
  }
 },
 "nbformat": 4,
 "nbformat_minor": 5
}
